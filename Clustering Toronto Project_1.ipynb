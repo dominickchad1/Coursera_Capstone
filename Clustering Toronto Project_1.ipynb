{
    "cells": [
        {
            "cell_type": "markdown",
            "metadata": {},
            "source": "Importing libraies and reading data csv file into a Pandas dataframe"
        },
        {
            "cell_type": "code",
            "execution_count": 1,
            "metadata": {},
            "outputs": [],
            "source": "import pandas as pd\nimport numpy as np"
        },
        {
            "cell_type": "code",
            "execution_count": 2,
            "metadata": {},
            "outputs": [],
            "source": "# The code was removed by Watson Studio for sharing."
        },
        {
            "cell_type": "code",
            "execution_count": 3,
            "metadata": {},
            "outputs": [
                {
                    "data": {
                        "text/html": "<div>\n<style scoped>\n    .dataframe tbody tr th:only-of-type {\n        vertical-align: middle;\n    }\n\n    .dataframe tbody tr th {\n        vertical-align: top;\n    }\n\n    .dataframe thead th {\n        text-align: right;\n    }\n</style>\n<table border=\"1\" class=\"dataframe\">\n  <thead>\n    <tr style=\"text-align: right;\">\n      <th></th>\n      <th>Postcode</th>\n      <th>Borough</th>\n      <th>Neighbourhood</th>\n    </tr>\n  </thead>\n  <tbody>\n    <tr>\n      <th>0</th>\n      <td>M1A</td>\n      <td>Not assigned</td>\n      <td>Not assigned</td>\n    </tr>\n    <tr>\n      <th>1</th>\n      <td>M2A</td>\n      <td>Not assigned</td>\n      <td>Not assigned</td>\n    </tr>\n    <tr>\n      <th>2</th>\n      <td>M3A</td>\n      <td>North York</td>\n      <td>Parkwoods</td>\n    </tr>\n    <tr>\n      <th>3</th>\n      <td>M4A</td>\n      <td>North York</td>\n      <td>Victoria Village</td>\n    </tr>\n    <tr>\n      <th>4</th>\n      <td>M5A</td>\n      <td>Downtown Toronto</td>\n      <td>Harbourfront</td>\n    </tr>\n  </tbody>\n</table>\n</div>",
                        "text/plain": "  Postcode           Borough     Neighbourhood\n0      M1A      Not assigned      Not assigned\n1      M2A      Not assigned      Not assigned\n2      M3A        North York         Parkwoods\n3      M4A        North York  Victoria Village\n4      M5A  Downtown Toronto      Harbourfront"
                    },
                    "execution_count": 3,
                    "metadata": {},
                    "output_type": "execute_result"
                }
            ],
            "source": "df_tor = pd.read_csv(body)\ndf_tor.head()"
        },
        {
            "cell_type": "markdown",
            "metadata": {},
            "source": "Rename columns"
        },
        {
            "cell_type": "code",
            "execution_count": 4,
            "metadata": {},
            "outputs": [
                {
                    "data": {
                        "text/html": "<div>\n<style scoped>\n    .dataframe tbody tr th:only-of-type {\n        vertical-align: middle;\n    }\n\n    .dataframe tbody tr th {\n        vertical-align: top;\n    }\n\n    .dataframe thead th {\n        text-align: right;\n    }\n</style>\n<table border=\"1\" class=\"dataframe\">\n  <thead>\n    <tr style=\"text-align: right;\">\n      <th></th>\n      <th>PostalCode</th>\n      <th>Borough</th>\n      <th>Neighborhood</th>\n    </tr>\n  </thead>\n  <tbody>\n    <tr>\n      <th>0</th>\n      <td>M1A</td>\n      <td>Not assigned</td>\n      <td>Not assigned</td>\n    </tr>\n    <tr>\n      <th>1</th>\n      <td>M2A</td>\n      <td>Not assigned</td>\n      <td>Not assigned</td>\n    </tr>\n    <tr>\n      <th>2</th>\n      <td>M3A</td>\n      <td>North York</td>\n      <td>Parkwoods</td>\n    </tr>\n    <tr>\n      <th>3</th>\n      <td>M4A</td>\n      <td>North York</td>\n      <td>Victoria Village</td>\n    </tr>\n    <tr>\n      <th>4</th>\n      <td>M5A</td>\n      <td>Downtown Toronto</td>\n      <td>Harbourfront</td>\n    </tr>\n  </tbody>\n</table>\n</div>",
                        "text/plain": "  PostalCode           Borough      Neighborhood\n0        M1A      Not assigned      Not assigned\n1        M2A      Not assigned      Not assigned\n2        M3A        North York         Parkwoods\n3        M4A        North York  Victoria Village\n4        M5A  Downtown Toronto      Harbourfront"
                    },
                    "execution_count": 4,
                    "metadata": {},
                    "output_type": "execute_result"
                }
            ],
            "source": "df_tor.rename(columns={'Postcode':'PostalCode', 'Neighbourhood':'Neighborhood'}, inplace=True)\ndf_tor.head()"
        },
        {
            "cell_type": "markdown",
            "metadata": {},
            "source": "Remove all rows that have a Borough Not Assigned"
        },
        {
            "cell_type": "code",
            "execution_count": 5,
            "metadata": {},
            "outputs": [
                {
                    "data": {
                        "text/html": "<div>\n<style scoped>\n    .dataframe tbody tr th:only-of-type {\n        vertical-align: middle;\n    }\n\n    .dataframe tbody tr th {\n        vertical-align: top;\n    }\n\n    .dataframe thead th {\n        text-align: right;\n    }\n</style>\n<table border=\"1\" class=\"dataframe\">\n  <thead>\n    <tr style=\"text-align: right;\">\n      <th></th>\n      <th>PostalCode</th>\n      <th>Borough</th>\n      <th>Neighborhood</th>\n    </tr>\n  </thead>\n  <tbody>\n    <tr>\n      <th>2</th>\n      <td>M3A</td>\n      <td>North York</td>\n      <td>Parkwoods</td>\n    </tr>\n    <tr>\n      <th>3</th>\n      <td>M4A</td>\n      <td>North York</td>\n      <td>Victoria Village</td>\n    </tr>\n    <tr>\n      <th>4</th>\n      <td>M5A</td>\n      <td>Downtown Toronto</td>\n      <td>Harbourfront</td>\n    </tr>\n    <tr>\n      <th>5</th>\n      <td>M6A</td>\n      <td>North York</td>\n      <td>Lawrence Heights</td>\n    </tr>\n    <tr>\n      <th>6</th>\n      <td>M6A</td>\n      <td>North York</td>\n      <td>Lawrence Manor</td>\n    </tr>\n  </tbody>\n</table>\n</div>",
                        "text/plain": "  PostalCode           Borough      Neighborhood\n2        M3A        North York         Parkwoods\n3        M4A        North York  Victoria Village\n4        M5A  Downtown Toronto      Harbourfront\n5        M6A        North York  Lawrence Heights\n6        M6A        North York    Lawrence Manor"
                    },
                    "execution_count": 5,
                    "metadata": {},
                    "output_type": "execute_result"
                }
            ],
            "source": "df_tor['Borough'].replace('Not assigned',np.nan, inplace=True)\ndf_tor.dropna(subset=['Borough'], axis=0, inplace=True)\ndf_tor.head()"
        },
        {
            "cell_type": "markdown",
            "metadata": {},
            "source": "Combine rows with the same Postal Code <br/>\nReplace Not Assigned Neighborood values with their corresponding Borough value <br/>\nRandomize dataframe rows"
        },
        {
            "cell_type": "code",
            "execution_count": 6,
            "metadata": {},
            "outputs": [
                {
                    "data": {
                        "text/html": "<div>\n<style scoped>\n    .dataframe tbody tr th:only-of-type {\n        vertical-align: middle;\n    }\n\n    .dataframe tbody tr th {\n        vertical-align: top;\n    }\n\n    .dataframe thead th {\n        text-align: right;\n    }\n</style>\n<table border=\"1\" class=\"dataframe\">\n  <thead>\n    <tr style=\"text-align: right;\">\n      <th></th>\n      <th>PostalCode</th>\n      <th>Borough</th>\n      <th>Neighborhood</th>\n    </tr>\n  </thead>\n  <tbody>\n    <tr>\n      <th>0</th>\n      <td>M3J</td>\n      <td>North York</td>\n      <td>Northwood Park, York University</td>\n    </tr>\n    <tr>\n      <th>1</th>\n      <td>M9C</td>\n      <td>Etobicoke</td>\n      <td>Bloordale Gardens, Eringate, Markland Wood, Ol...</td>\n    </tr>\n    <tr>\n      <th>2</th>\n      <td>M4L</td>\n      <td>East Toronto</td>\n      <td>The Beaches West, India Bazaar</td>\n    </tr>\n    <tr>\n      <th>3</th>\n      <td>M9L</td>\n      <td>North York</td>\n      <td>Humber Summit</td>\n    </tr>\n    <tr>\n      <th>4</th>\n      <td>M9A</td>\n      <td>Etobicoke</td>\n      <td>Islington Avenue</td>\n    </tr>\n  </tbody>\n</table>\n</div>",
                        "text/plain": "  PostalCode       Borough                                       Neighborhood\n0        M3J    North York                    Northwood Park, York University\n1        M9C     Etobicoke  Bloordale Gardens, Eringate, Markland Wood, Ol...\n2        M4L  East Toronto                     The Beaches West, India Bazaar\n3        M9L    North York                                      Humber Summit\n4        M9A     Etobicoke                                   Islington Avenue"
                    },
                    "execution_count": 6,
                    "metadata": {},
                    "output_type": "execute_result"
                }
            ],
            "source": "df_tor=df_tor.groupby(['PostalCode','Borough'], as_index =False).agg({'Neighborhood': ', '.join})\ndf_tor['Neighborhood'].replace('Not assigned',df_tor['Borough'], inplace=True)\ndf_tor = df_tor.sample(frac=1).reset_index(drop=True)\ndf_tor.head()"
        },
        {
            "cell_type": "code",
            "execution_count": 7,
            "metadata": {},
            "outputs": [
                {
                    "data": {
                        "text/plain": "(103, 3)"
                    },
                    "execution_count": 7,
                    "metadata": {},
                    "output_type": "execute_result"
                }
            ],
            "source": "df_tor.shape"
        },
        {
            "cell_type": "markdown",
            "metadata": {},
            "source": "The datframe has 103 rows or records and 3 columns or features"
        },
        {
            "cell_type": "code",
            "execution_count": 8,
            "metadata": {},
            "outputs": [
                {
                    "data": {
                        "text/html": "<div>\n<style scoped>\n    .dataframe tbody tr th:only-of-type {\n        vertical-align: middle;\n    }\n\n    .dataframe tbody tr th {\n        vertical-align: top;\n    }\n\n    .dataframe thead th {\n        text-align: right;\n    }\n</style>\n<table border=\"1\" class=\"dataframe\">\n  <thead>\n    <tr style=\"text-align: right;\">\n      <th></th>\n      <th>Postal Code</th>\n      <th>Latitude</th>\n      <th>Longitude</th>\n    </tr>\n  </thead>\n  <tbody>\n    <tr>\n      <th>0</th>\n      <td>M1B</td>\n      <td>43.806686</td>\n      <td>-79.194353</td>\n    </tr>\n    <tr>\n      <th>1</th>\n      <td>M1C</td>\n      <td>43.784535</td>\n      <td>-79.160497</td>\n    </tr>\n    <tr>\n      <th>2</th>\n      <td>M1E</td>\n      <td>43.763573</td>\n      <td>-79.188711</td>\n    </tr>\n    <tr>\n      <th>3</th>\n      <td>M1G</td>\n      <td>43.770992</td>\n      <td>-79.216917</td>\n    </tr>\n    <tr>\n      <th>4</th>\n      <td>M1H</td>\n      <td>43.773136</td>\n      <td>-79.239476</td>\n    </tr>\n  </tbody>\n</table>\n</div>",
                        "text/plain": "  Postal Code   Latitude  Longitude\n0         M1B  43.806686 -79.194353\n1         M1C  43.784535 -79.160497\n2         M1E  43.763573 -79.188711\n3         M1G  43.770992 -79.216917\n4         M1H  43.773136 -79.239476"
                    },
                    "execution_count": 8,
                    "metadata": {},
                    "output_type": "execute_result"
                }
            ],
            "source": "body = client_d6b108fb8f9a44b6b683b7059b7338a1.get_object(Bucket='myfirstproject-donotdelete-pr-qxcxkzyfq9az74',Key='Geospatial_Coordinates.csv')['Body']\n# add missing __iter__ method, so pandas accepts body as file-like object\nif not hasattr(body, \"__iter__\"): body.__iter__ = types.MethodType( __iter__, body )\n\n# If you are reading an Excel file into a pandas DataFrame, replace `read_csv` by `read_excel` in the next statement.\ndf_coords = pd.read_csv(body)\ndf_coords.head()"
        },
        {
            "cell_type": "markdown",
            "metadata": {},
            "source": "Join the coordinates dataframe with the original dataframe on the matching Postal Code of both dataframes"
        },
        {
            "cell_type": "code",
            "execution_count": 11,
            "metadata": {},
            "outputs": [
                {
                    "data": {
                        "text/html": "<div>\n<style scoped>\n    .dataframe tbody tr th:only-of-type {\n        vertical-align: middle;\n    }\n\n    .dataframe tbody tr th {\n        vertical-align: top;\n    }\n\n    .dataframe thead th {\n        text-align: right;\n    }\n</style>\n<table border=\"1\" class=\"dataframe\">\n  <thead>\n    <tr style=\"text-align: right;\">\n      <th></th>\n      <th>PostalCode</th>\n      <th>Borough</th>\n      <th>Neighborhood</th>\n      <th>Latitude</th>\n      <th>Longitude</th>\n    </tr>\n  </thead>\n  <tbody>\n    <tr>\n      <th>0</th>\n      <td>M3J</td>\n      <td>North York</td>\n      <td>Northwood Park, York University</td>\n      <td>43.767980</td>\n      <td>-79.487262</td>\n    </tr>\n    <tr>\n      <th>1</th>\n      <td>M9C</td>\n      <td>Etobicoke</td>\n      <td>Bloordale Gardens, Eringate, Markland Wood, Ol...</td>\n      <td>43.643515</td>\n      <td>-79.577201</td>\n    </tr>\n    <tr>\n      <th>2</th>\n      <td>M4L</td>\n      <td>East Toronto</td>\n      <td>The Beaches West, India Bazaar</td>\n      <td>43.668999</td>\n      <td>-79.315572</td>\n    </tr>\n    <tr>\n      <th>3</th>\n      <td>M9L</td>\n      <td>North York</td>\n      <td>Humber Summit</td>\n      <td>43.756303</td>\n      <td>-79.565963</td>\n    </tr>\n    <tr>\n      <th>4</th>\n      <td>M9A</td>\n      <td>Etobicoke</td>\n      <td>Islington Avenue</td>\n      <td>43.667856</td>\n      <td>-79.532242</td>\n    </tr>\n    <tr>\n      <th>5</th>\n      <td>M1M</td>\n      <td>Scarborough</td>\n      <td>Cliffcrest, Cliffside, Scarborough Village West</td>\n      <td>43.716316</td>\n      <td>-79.239476</td>\n    </tr>\n    <tr>\n      <th>6</th>\n      <td>M5M</td>\n      <td>North York</td>\n      <td>Bedford Park, Lawrence Manor East</td>\n      <td>43.733283</td>\n      <td>-79.419750</td>\n    </tr>\n    <tr>\n      <th>7</th>\n      <td>M3H</td>\n      <td>North York</td>\n      <td>Bathurst Manor, Downsview North, Wilson Heights</td>\n      <td>43.754328</td>\n      <td>-79.442259</td>\n    </tr>\n    <tr>\n      <th>8</th>\n      <td>M9B</td>\n      <td>Etobicoke</td>\n      <td>Cloverdale, Islington, Martin Grove, Princess ...</td>\n      <td>43.650943</td>\n      <td>-79.554724</td>\n    </tr>\n    <tr>\n      <th>9</th>\n      <td>M3M</td>\n      <td>North York</td>\n      <td>Downsview Central</td>\n      <td>43.728496</td>\n      <td>-79.495697</td>\n    </tr>\n    <tr>\n      <th>10</th>\n      <td>M1B</td>\n      <td>Scarborough</td>\n      <td>Rouge, Malvern</td>\n      <td>43.806686</td>\n      <td>-79.194353</td>\n    </tr>\n    <tr>\n      <th>11</th>\n      <td>M5J</td>\n      <td>Downtown Toronto</td>\n      <td>Harbourfront East, Toronto Islands, Union Station</td>\n      <td>43.640816</td>\n      <td>-79.381752</td>\n    </tr>\n  </tbody>\n</table>\n</div>",
                        "text/plain": "   PostalCode           Borough  \\\n0         M3J        North York   \n1         M9C         Etobicoke   \n2         M4L      East Toronto   \n3         M9L        North York   \n4         M9A         Etobicoke   \n5         M1M       Scarborough   \n6         M5M        North York   \n7         M3H        North York   \n8         M9B         Etobicoke   \n9         M3M        North York   \n10        M1B       Scarborough   \n11        M5J  Downtown Toronto   \n\n                                         Neighborhood   Latitude  Longitude  \n0                     Northwood Park, York University  43.767980 -79.487262  \n1   Bloordale Gardens, Eringate, Markland Wood, Ol...  43.643515 -79.577201  \n2                      The Beaches West, India Bazaar  43.668999 -79.315572  \n3                                       Humber Summit  43.756303 -79.565963  \n4                                    Islington Avenue  43.667856 -79.532242  \n5     Cliffcrest, Cliffside, Scarborough Village West  43.716316 -79.239476  \n6                   Bedford Park, Lawrence Manor East  43.733283 -79.419750  \n7     Bathurst Manor, Downsview North, Wilson Heights  43.754328 -79.442259  \n8   Cloverdale, Islington, Martin Grove, Princess ...  43.650943 -79.554724  \n9                                   Downsview Central  43.728496 -79.495697  \n10                                     Rouge, Malvern  43.806686 -79.194353  \n11  Harbourfront East, Toronto Islands, Union Station  43.640816 -79.381752  "
                    },
                    "execution_count": 11,
                    "metadata": {},
                    "output_type": "execute_result"
                }
            ],
            "source": "df_tor=df_tor.join(df_coords.set_index('Postal Code'), on='PostalCode')\ndf_tor.head(12)"
        }
    ],
    "metadata": {
        "kernelspec": {
            "display_name": "Python 3.6",
            "language": "python",
            "name": "python3"
        },
        "language_info": {
            "codemirror_mode": {
                "name": "ipython",
                "version": 3
            },
            "file_extension": ".py",
            "mimetype": "text/x-python",
            "name": "python",
            "nbconvert_exporter": "python",
            "pygments_lexer": "ipython3",
            "version": "3.6.9"
        }
    },
    "nbformat": 4,
    "nbformat_minor": 1
}